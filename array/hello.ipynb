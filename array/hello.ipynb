{
 "cells": [
  {
   "cell_type": "code",
   "execution_count": null,
   "metadata": {},
   "outputs": [],
   "source": [
    "!pip install jupyterthemes"
   ]
  },
  {
   "cell_type": "code",
   "execution_count": null,
   "metadata": {},
   "outputs": [],
   "source": [
    "!jt -l"
   ]
  },
  {
   "cell_type": "code",
   "execution_count": 1,
   "metadata": {},
   "outputs": [],
   "source": [
    "!jt -t gruvboxd"
   ]
  },
  {
   "cell_type": "code",
   "execution_count": 1,
   "metadata": {},
   "outputs": [
    {
     "name": "stdout",
     "output_type": "stream",
     "text": [
      "Requirement already up-to-date: jupyterthemes in c:\\users\\lenovo\\anaconda3\\lib\\site-packages (0.20.0)\n",
      "Requirement already satisfied, skipping upgrade: lesscpy>=0.11.2 in c:\\users\\lenovo\\anaconda3\\lib\\site-packages (from jupyterthemes) (0.13.0)\n",
      "Requirement already satisfied, skipping upgrade: matplotlib>=1.4.3 in c:\\users\\lenovo\\anaconda3\\lib\\site-packages (from jupyterthemes) (3.1.3)\n",
      "Requirement already satisfied, skipping upgrade: jupyter-core in c:\\users\\lenovo\\anaconda3\\lib\\site-packages (from jupyterthemes) (4.6.1)\n",
      "Requirement already satisfied, skipping upgrade: ipython>=5.4.1 in c:\\users\\lenovo\\anaconda3\\lib\\site-packages (from jupyterthemes) (7.12.0)\n",
      "Requirement already satisfied, skipping upgrade: notebook>=5.6.0 in c:\\users\\lenovo\\anaconda3\\lib\\site-packages (from jupyterthemes) (6.0.3)\n",
      "Requirement already satisfied, skipping upgrade: ply in c:\\users\\lenovo\\anaconda3\\lib\\site-packages (from lesscpy>=0.11.2->jupyterthemes) (3.11)\n",
      "Requirement already satisfied, skipping upgrade: six in c:\\users\\lenovo\\anaconda3\\lib\\site-packages (from lesscpy>=0.11.2->jupyterthemes) (1.14.0)\n",
      "Requirement already satisfied, skipping upgrade: numpy>=1.11 in c:\\users\\lenovo\\anaconda3\\lib\\site-packages (from matplotlib>=1.4.3->jupyterthemes) (1.18.1)\n",
      "Requirement already satisfied, skipping upgrade: pyparsing!=2.0.4,!=2.1.2,!=2.1.6,>=2.0.1 in c:\\users\\lenovo\\anaconda3\\lib\\site-packages (from matplotlib>=1.4.3->jupyterthemes) (2.4.6)\n",
      "Requirement already satisfied, skipping upgrade: python-dateutil>=2.1 in c:\\users\\lenovo\\anaconda3\\lib\\site-packages (from matplotlib>=1.4.3->jupyterthemes) (2.8.1)\n",
      "Requirement already satisfied, skipping upgrade: kiwisolver>=1.0.1 in c:\\users\\lenovo\\anaconda3\\lib\\site-packages (from matplotlib>=1.4.3->jupyterthemes) (1.1.0)\n",
      "Requirement already satisfied, skipping upgrade: cycler>=0.10 in c:\\users\\lenovo\\anaconda3\\lib\\site-packages (from matplotlib>=1.4.3->jupyterthemes) (0.10.0)\n",
      "Requirement already satisfied, skipping upgrade: traitlets in c:\\users\\lenovo\\anaconda3\\lib\\site-packages (from jupyter-core->jupyterthemes) (4.3.3)\n",
      "Requirement already satisfied, skipping upgrade: pywin32>=1.0; sys_platform == \"win32\" in c:\\users\\lenovo\\anaconda3\\lib\\site-packages (from jupyter-core->jupyterthemes) (227)\n",
      "Requirement already satisfied, skipping upgrade: pygments in c:\\users\\lenovo\\anaconda3\\lib\\site-packages (from ipython>=5.4.1->jupyterthemes) (2.5.2)\n",
      "Requirement already satisfied, skipping upgrade: backcall in c:\\users\\lenovo\\anaconda3\\lib\\site-packages (from ipython>=5.4.1->jupyterthemes) (0.1.0)\n",
      "Requirement already satisfied, skipping upgrade: setuptools>=18.5 in c:\\users\\lenovo\\anaconda3\\lib\\site-packages (from ipython>=5.4.1->jupyterthemes) (45.2.0.post20200210)\n",
      "Requirement already satisfied, skipping upgrade: pickleshare in c:\\users\\lenovo\\anaconda3\\lib\\site-packages (from ipython>=5.4.1->jupyterthemes) (0.7.5)\n",
      "Requirement already satisfied, skipping upgrade: decorator in c:\\users\\lenovo\\anaconda3\\lib\\site-packages (from ipython>=5.4.1->jupyterthemes) (4.4.1)\n",
      "Requirement already satisfied, skipping upgrade: colorama; sys_platform == \"win32\" in c:\\users\\lenovo\\anaconda3\\lib\\site-packages (from ipython>=5.4.1->jupyterthemes) (0.4.3)\n",
      "Requirement already satisfied, skipping upgrade: prompt-toolkit!=3.0.0,!=3.0.1,<3.1.0,>=2.0.0 in c:\\users\\lenovo\\anaconda3\\lib\\site-packages (from ipython>=5.4.1->jupyterthemes) (3.0.3)\n",
      "Requirement already satisfied, skipping upgrade: jedi>=0.10 in c:\\users\\lenovo\\anaconda3\\lib\\site-packages (from ipython>=5.4.1->jupyterthemes) (0.14.1)\n",
      "Requirement already satisfied, skipping upgrade: nbconvert in c:\\users\\lenovo\\anaconda3\\lib\\site-packages (from notebook>=5.6.0->jupyterthemes) (5.6.1)\n",
      "Requirement already satisfied, skipping upgrade: terminado>=0.8.1 in c:\\users\\lenovo\\anaconda3\\lib\\site-packages (from notebook>=5.6.0->jupyterthemes) (0.8.3)\n",
      "Requirement already satisfied, skipping upgrade: ipython-genutils in c:\\users\\lenovo\\anaconda3\\lib\\site-packages (from notebook>=5.6.0->jupyterthemes) (0.2.0)\n",
      "Requirement already satisfied, skipping upgrade: pyzmq>=17 in c:\\users\\lenovo\\anaconda3\\lib\\site-packages (from notebook>=5.6.0->jupyterthemes) (18.1.1)\n",
      "Requirement already satisfied, skipping upgrade: nbformat in c:\\users\\lenovo\\anaconda3\\lib\\site-packages (from notebook>=5.6.0->jupyterthemes) (5.0.4)\n",
      "Requirement already satisfied, skipping upgrade: ipykernel in c:\\users\\lenovo\\anaconda3\\lib\\site-packages (from notebook>=5.6.0->jupyterthemes) (5.1.4)\n",
      "Requirement already satisfied, skipping upgrade: jupyter-client>=5.3.4 in c:\\users\\lenovo\\anaconda3\\lib\\site-packages (from notebook>=5.6.0->jupyterthemes) (5.3.4)\n",
      "Requirement already satisfied, skipping upgrade: prometheus-client in c:\\users\\lenovo\\anaconda3\\lib\\site-packages (from notebook>=5.6.0->jupyterthemes) (0.7.1)\n",
      "Requirement already satisfied, skipping upgrade: tornado>=5.0 in c:\\users\\lenovo\\anaconda3\\lib\\site-packages (from notebook>=5.6.0->jupyterthemes) (6.0.3)\n",
      "Requirement already satisfied, skipping upgrade: Send2Trash in c:\\users\\lenovo\\anaconda3\\lib\\site-packages (from notebook>=5.6.0->jupyterthemes) (1.5.0)\n",
      "Requirement already satisfied, skipping upgrade: jinja2 in c:\\users\\lenovo\\anaconda3\\lib\\site-packages (from notebook>=5.6.0->jupyterthemes) (2.11.1)\n",
      "Requirement already satisfied, skipping upgrade: wcwidth in c:\\users\\lenovo\\anaconda3\\lib\\site-packages (from prompt-toolkit!=3.0.0,!=3.0.1,<3.1.0,>=2.0.0->ipython>=5.4.1->jupyterthemes) (0.1.8)\n",
      "Requirement already satisfied, skipping upgrade: parso>=0.5.0 in c:\\users\\lenovo\\anaconda3\\lib\\site-packages (from jedi>=0.10->ipython>=5.4.1->jupyterthemes) (0.5.2)\n",
      "Requirement already satisfied, skipping upgrade: bleach in c:\\users\\lenovo\\anaconda3\\lib\\site-packages (from nbconvert->notebook>=5.6.0->jupyterthemes) (3.1.0)\n",
      "Requirement already satisfied, skipping upgrade: entrypoints>=0.2.2 in c:\\users\\lenovo\\anaconda3\\lib\\site-packages (from nbconvert->notebook>=5.6.0->jupyterthemes) (0.3)\n",
      "Requirement already satisfied, skipping upgrade: testpath in c:\\users\\lenovo\\anaconda3\\lib\\site-packages (from nbconvert->notebook>=5.6.0->jupyterthemes) (0.4.4)\n",
      "Requirement already satisfied, skipping upgrade: mistune<2,>=0.8.1 in c:\\users\\lenovo\\anaconda3\\lib\\site-packages (from nbconvert->notebook>=5.6.0->jupyterthemes) (0.8.4)\n",
      "Requirement already satisfied, skipping upgrade: defusedxml in c:\\users\\lenovo\\anaconda3\\lib\\site-packages (from nbconvert->notebook>=5.6.0->jupyterthemes) (0.6.0)\n",
      "Requirement already satisfied, skipping upgrade: pandocfilters>=1.4.1 in c:\\users\\lenovo\\anaconda3\\lib\\site-packages (from nbconvert->notebook>=5.6.0->jupyterthemes) (1.4.2)\n",
      "Requirement already satisfied, skipping upgrade: jsonschema!=2.5.0,>=2.4 in c:\\users\\lenovo\\anaconda3\\lib\\site-packages (from nbformat->notebook>=5.6.0->jupyterthemes) (3.2.0)\n",
      "Requirement already satisfied, skipping upgrade: MarkupSafe>=0.23 in c:\\users\\lenovo\\anaconda3\\lib\\site-packages (from jinja2->notebook>=5.6.0->jupyterthemes) (1.1.1)\n",
      "Requirement already satisfied, skipping upgrade: webencodings in c:\\users\\lenovo\\anaconda3\\lib\\site-packages (from bleach->nbconvert->notebook>=5.6.0->jupyterthemes) (0.5.1)\n",
      "Requirement already satisfied, skipping upgrade: importlib-metadata; python_version < \"3.8\" in c:\\users\\lenovo\\anaconda3\\lib\\site-packages (from jsonschema!=2.5.0,>=2.4->nbformat->notebook>=5.6.0->jupyterthemes) (1.5.0)\n",
      "Requirement already satisfied, skipping upgrade: attrs>=17.4.0 in c:\\users\\lenovo\\anaconda3\\lib\\site-packages (from jsonschema!=2.5.0,>=2.4->nbformat->notebook>=5.6.0->jupyterthemes) (19.3.0)\n",
      "Requirement already satisfied, skipping upgrade: pyrsistent>=0.14.0 in c:\\users\\lenovo\\anaconda3\\lib\\site-packages (from jsonschema!=2.5.0,>=2.4->nbformat->notebook>=5.6.0->jupyterthemes) (0.15.7)\n",
      "Requirement already satisfied, skipping upgrade: zipp>=0.5 in c:\\users\\lenovo\\anaconda3\\lib\\site-packages (from importlib-metadata; python_version < \"3.8\"->jsonschema!=2.5.0,>=2.4->nbformat->notebook>=5.6.0->jupyterthemes) (2.2.0)\n"
     ]
    }
   ],
   "source": [
    "!pip install --upgrade jupyterthemes"
   ]
  },
  {
   "cell_type": "code",
   "execution_count": 2,
   "metadata": {},
   "outputs": [
    {
     "name": "stdout",
     "output_type": "stream",
     "text": [
      "Collecting notebook\n",
      "  Using cached notebook-6.2.0-py3-none-any.whl (9.5 MB)\n",
      "Requirement already satisfied, skipping upgrade: Send2Trash>=1.5.0 in c:\\users\\lenovo\\anaconda3\\lib\\site-packages (from notebook) (1.5.0)\n",
      "Requirement already satisfied, skipping upgrade: terminado>=0.8.3 in c:\\users\\lenovo\\anaconda3\\lib\\site-packages (from notebook) (0.8.3)\n",
      "Requirement already satisfied, skipping upgrade: ipykernel in c:\\users\\lenovo\\anaconda3\\lib\\site-packages (from notebook) (5.1.4)\n",
      "Requirement already satisfied, skipping upgrade: nbformat in c:\\users\\lenovo\\anaconda3\\lib\\site-packages (from notebook) (5.0.4)\n",
      "Requirement already satisfied, skipping upgrade: jupyter-core>=4.6.1 in c:\\users\\lenovo\\anaconda3\\lib\\site-packages (from notebook) (4.6.1)\n",
      "Requirement already satisfied, skipping upgrade: jupyter-client>=5.3.4 in c:\\users\\lenovo\\anaconda3\\lib\\site-packages (from notebook) (5.3.4)\n",
      "Requirement already satisfied, skipping upgrade: jinja2 in c:\\users\\lenovo\\anaconda3\\lib\\site-packages (from notebook) (2.11.1)\n",
      "Requirement already satisfied, skipping upgrade: prometheus-client in c:\\users\\lenovo\\anaconda3\\lib\\site-packages (from notebook) (0.7.1)\n",
      "Collecting tornado>=6.1\n",
      "  Downloading tornado-6.1-cp37-cp37m-win_amd64.whl (422 kB)\n",
      "Collecting argon2-cffi\n",
      "  Downloading argon2_cffi-20.1.0-cp37-cp37m-win_amd64.whl (42 kB)\n",
      "Requirement already satisfied, skipping upgrade: ipython-genutils in c:\\users\\lenovo\\anaconda3\\lib\\site-packages (from notebook) (0.2.0)\n",
      "Requirement already satisfied, skipping upgrade: traitlets>=4.2.1 in c:\\users\\lenovo\\anaconda3\\lib\\site-packages (from notebook) (4.3.3)\n",
      "Requirement already satisfied, skipping upgrade: nbconvert in c:\\users\\lenovo\\anaconda3\\lib\\site-packages (from notebook) (5.6.1)\n",
      "Requirement already satisfied, skipping upgrade: pyzmq>=17 in c:\\users\\lenovo\\anaconda3\\lib\\site-packages (from notebook) (18.1.1)\n",
      "Requirement already satisfied, skipping upgrade: ipython>=5.0.0 in c:\\users\\lenovo\\anaconda3\\lib\\site-packages (from ipykernel->notebook) (7.12.0)\n",
      "Requirement already satisfied, skipping upgrade: jsonschema!=2.5.0,>=2.4 in c:\\users\\lenovo\\anaconda3\\lib\\site-packages (from nbformat->notebook) (3.2.0)\n",
      "Requirement already satisfied, skipping upgrade: pywin32>=1.0; sys_platform == \"win32\" in c:\\users\\lenovo\\anaconda3\\lib\\site-packages (from jupyter-core>=4.6.1->notebook) (227)\n",
      "Requirement already satisfied, skipping upgrade: python-dateutil>=2.1 in c:\\users\\lenovo\\anaconda3\\lib\\site-packages (from jupyter-client>=5.3.4->notebook) (2.8.1)\n",
      "Requirement already satisfied, skipping upgrade: MarkupSafe>=0.23 in c:\\users\\lenovo\\anaconda3\\lib\\site-packages (from jinja2->notebook) (1.1.1)\n",
      "Requirement already satisfied, skipping upgrade: six in c:\\users\\lenovo\\anaconda3\\lib\\site-packages (from argon2-cffi->notebook) (1.14.0)\n",
      "Requirement already satisfied, skipping upgrade: cffi>=1.0.0 in c:\\users\\lenovo\\anaconda3\\lib\\site-packages (from argon2-cffi->notebook) (1.14.0)\n",
      "Requirement already satisfied, skipping upgrade: decorator in c:\\users\\lenovo\\anaconda3\\lib\\site-packages (from traitlets>=4.2.1->notebook) (4.4.1)\n",
      "Requirement already satisfied, skipping upgrade: testpath in c:\\users\\lenovo\\anaconda3\\lib\\site-packages (from nbconvert->notebook) (0.4.4)\n",
      "Requirement already satisfied, skipping upgrade: defusedxml in c:\\users\\lenovo\\anaconda3\\lib\\site-packages (from nbconvert->notebook) (0.6.0)\n",
      "Requirement already satisfied, skipping upgrade: bleach in c:\\users\\lenovo\\anaconda3\\lib\\site-packages (from nbconvert->notebook) (3.1.0)\n",
      "Requirement already satisfied, skipping upgrade: pygments in c:\\users\\lenovo\\anaconda3\\lib\\site-packages (from nbconvert->notebook) (2.5.2)\n",
      "Requirement already satisfied, skipping upgrade: pandocfilters>=1.4.1 in c:\\users\\lenovo\\anaconda3\\lib\\site-packages (from nbconvert->notebook) (1.4.2)\n",
      "Requirement already satisfied, skipping upgrade: mistune<2,>=0.8.1 in c:\\users\\lenovo\\anaconda3\\lib\\site-packages (from nbconvert->notebook) (0.8.4)\n",
      "Requirement already satisfied, skipping upgrade: entrypoints>=0.2.2 in c:\\users\\lenovo\\anaconda3\\lib\\site-packages (from nbconvert->notebook) (0.3)\n",
      "Requirement already satisfied, skipping upgrade: backcall in c:\\users\\lenovo\\anaconda3\\lib\\site-packages (from ipython>=5.0.0->ipykernel->notebook) (0.1.0)\n",
      "Requirement already satisfied, skipping upgrade: pickleshare in c:\\users\\lenovo\\anaconda3\\lib\\site-packages (from ipython>=5.0.0->ipykernel->notebook) (0.7.5)\n",
      "Requirement already satisfied, skipping upgrade: setuptools>=18.5 in c:\\users\\lenovo\\anaconda3\\lib\\site-packages (from ipython>=5.0.0->ipykernel->notebook) (45.2.0.post20200210)\n",
      "Requirement already satisfied, skipping upgrade: jedi>=0.10 in c:\\users\\lenovo\\anaconda3\\lib\\site-packages (from ipython>=5.0.0->ipykernel->notebook) (0.14.1)\n",
      "Requirement already satisfied, skipping upgrade: prompt-toolkit!=3.0.0,!=3.0.1,<3.1.0,>=2.0.0 in c:\\users\\lenovo\\anaconda3\\lib\\site-packages (from ipython>=5.0.0->ipykernel->notebook) (3.0.3)\n",
      "Requirement already satisfied, skipping upgrade: colorama; sys_platform == \"win32\" in c:\\users\\lenovo\\anaconda3\\lib\\site-packages (from ipython>=5.0.0->ipykernel->notebook) (0.4.3)\n",
      "Requirement already satisfied, skipping upgrade: attrs>=17.4.0 in c:\\users\\lenovo\\anaconda3\\lib\\site-packages (from jsonschema!=2.5.0,>=2.4->nbformat->notebook) (19.3.0)\n",
      "Requirement already satisfied, skipping upgrade: importlib-metadata; python_version < \"3.8\" in c:\\users\\lenovo\\anaconda3\\lib\\site-packages (from jsonschema!=2.5.0,>=2.4->nbformat->notebook) (1.5.0)\n",
      "Requirement already satisfied, skipping upgrade: pyrsistent>=0.14.0 in c:\\users\\lenovo\\anaconda3\\lib\\site-packages (from jsonschema!=2.5.0,>=2.4->nbformat->notebook) (0.15.7)\n",
      "Requirement already satisfied, skipping upgrade: pycparser in c:\\users\\lenovo\\anaconda3\\lib\\site-packages (from cffi>=1.0.0->argon2-cffi->notebook) (2.19)\n",
      "Requirement already satisfied, skipping upgrade: webencodings in c:\\users\\lenovo\\anaconda3\\lib\\site-packages (from bleach->nbconvert->notebook) (0.5.1)\n",
      "Requirement already satisfied, skipping upgrade: parso>=0.5.0 in c:\\users\\lenovo\\anaconda3\\lib\\site-packages (from jedi>=0.10->ipython>=5.0.0->ipykernel->notebook) (0.5.2)\n",
      "Requirement already satisfied, skipping upgrade: wcwidth in c:\\users\\lenovo\\anaconda3\\lib\\site-packages (from prompt-toolkit!=3.0.0,!=3.0.1,<3.1.0,>=2.0.0->ipython>=5.0.0->ipykernel->notebook) (0.1.8)\n",
      "Requirement already satisfied, skipping upgrade: zipp>=0.5 in c:\\users\\lenovo\\anaconda3\\lib\\site-packages (from importlib-metadata; python_version < \"3.8\"->jsonschema!=2.5.0,>=2.4->nbformat->notebook) (2.2.0)\n",
      "Installing collected packages: tornado, argon2-cffi, notebook\n",
      "  Attempting uninstall: tornado\n",
      "    Found existing installation: tornado 6.0.3\n",
      "    Uninstalling tornado-6.0.3:\n",
      "      Successfully uninstalled tornado-6.0.3\n"
     ]
    },
    {
     "name": "stderr",
     "output_type": "stream",
     "text": [
      "ERROR: Could not install packages due to an EnvironmentError: [WinError 5] Access is denied: 'c:\\\\users\\\\lenovo\\\\anaconda3\\\\lib\\\\site-packages\\\\~ornado\\\\speedups.cp37-win_amd64.pyd'\n",
      "Consider using the `--user` option or check the permissions.\n",
      "\n"
     ]
    }
   ],
   "source": [
    "!pip install --upgrade notebook"
   ]
  },
  {
   "cell_type": "code",
   "execution_count": 3,
   "metadata": {},
   "outputs": [
    {
     "name": "stdout",
     "output_type": "stream",
     "text": [
      "Requirement already satisfied: notebook in c:\\users\\lenovo\\appdata\\local\\programs\\python\\python38-32\\lib\\site-packages (6.2.0)\n",
      "Requirement already satisfied: pyzmq>=17 in c:\\users\\lenovo\\appdata\\local\\programs\\python\\python38-32\\lib\\site-packages (from notebook) (22.0.3)\n",
      "Requirement already satisfied: jinja2 in c:\\users\\lenovo\\appdata\\local\\programs\\python\\python38-32\\lib\\site-packages (from notebook) (2.11.2)\n",
      "Requirement already satisfied: nbconvert in c:\\users\\lenovo\\appdata\\local\\programs\\python\\python38-32\\lib\\site-packages (from notebook) (5.6.1)\n",
      "Requirement already satisfied: jupyter-client>=5.3.4 in c:\\users\\lenovo\\appdata\\local\\programs\\python\\python38-32\\lib\\site-packages (from notebook) (6.1.12)\n",
      "Requirement already satisfied: ipykernel in c:\\users\\lenovo\\appdata\\local\\programs\\python\\python38-32\\lib\\site-packages (from notebook) (5.5.0)\n",
      "Requirement already satisfied: traitlets>=4.2.1 in c:\\users\\lenovo\\appdata\\local\\programs\\python\\python38-32\\lib\\site-packages (from notebook) (5.0.5)\n",
      "Requirement already satisfied: tornado>=6.1 in c:\\users\\lenovo\\appdata\\local\\programs\\python\\python38-32\\lib\\site-packages (from notebook) (6.1)\n",
      "Requirement already satisfied: ipython-genutils in c:\\users\\lenovo\\appdata\\local\\programs\\python\\python38-32\\lib\\site-packages (from notebook) (0.2.0)\n",
      "Requirement already satisfied: prometheus-client in c:\\users\\lenovo\\appdata\\local\\programs\\python\\python38-32\\lib\\site-packages (from notebook) (0.9.0)\n",
      "Requirement already satisfied: jupyter-core>=4.6.1 in c:\\users\\lenovo\\appdata\\local\\programs\\python\\python38-32\\lib\\site-packages (from notebook) (4.7.1)\n",
      "Requirement already satisfied: terminado>=0.8.3 in c:\\users\\lenovo\\appdata\\local\\programs\\python\\python38-32\\lib\\site-packages (from notebook) (0.9.2)\n",
      "Requirement already satisfied: Send2Trash>=1.5.0 in c:\\users\\lenovo\\appdata\\local\\programs\\python\\python38-32\\lib\\site-packages (from notebook) (1.5.0)\n",
      "Requirement already satisfied: argon2-cffi in c:\\users\\lenovo\\appdata\\local\\programs\\python\\python38-32\\lib\\site-packages (from notebook) (20.1.0)\n",
      "Requirement already satisfied: nbformat in c:\\users\\lenovo\\appdata\\local\\programs\\python\\python38-32\\lib\\site-packages (from notebook) (5.1.2)\n",
      "Requirement already satisfied: MarkupSafe>=0.23 in c:\\users\\lenovo\\appdata\\local\\programs\\python\\python38-32\\lib\\site-packages (from jinja2->notebook) (1.1.1)\n",
      "Requirement already satisfied: pygments in c:\\users\\lenovo\\appdata\\local\\programs\\python\\python38-32\\lib\\site-packages (from nbconvert->notebook) (2.8.1)\n",
      "Requirement already satisfied: bleach in c:\\users\\lenovo\\appdata\\local\\programs\\python\\python38-32\\lib\\site-packages (from nbconvert->notebook) (3.3.0)\n",
      "Requirement already satisfied: entrypoints>=0.2.2 in c:\\users\\lenovo\\appdata\\local\\programs\\python\\python38-32\\lib\\site-packages (from nbconvert->notebook) (0.3)\n",
      "Requirement already satisfied: defusedxml in c:\\users\\lenovo\\appdata\\local\\programs\\python\\python38-32\\lib\\site-packages (from nbconvert->notebook) (0.7.1)\n",
      "Requirement already satisfied: testpath in c:\\users\\lenovo\\appdata\\local\\programs\\python\\python38-32\\lib\\site-packages (from nbconvert->notebook) (0.4.4)\n",
      "Requirement already satisfied: pandocfilters>=1.4.1 in c:\\users\\lenovo\\appdata\\local\\programs\\python\\python38-32\\lib\\site-packages (from nbconvert->notebook) (1.4.3)\n",
      "Requirement already satisfied: mistune<2,>=0.8.1 in c:\\users\\lenovo\\appdata\\local\\programs\\python\\python38-32\\lib\\site-packages (from nbconvert->notebook) (0.8.4)\n",
      "Requirement already satisfied: python-dateutil>=2.1 in c:\\users\\lenovo\\appdata\\local\\programs\\python\\python38-32\\lib\\site-packages (from jupyter-client>=5.3.4->notebook) (2.8.1)\n",
      "Requirement already satisfied: ipython>=5.0.0 in c:\\users\\lenovo\\appdata\\local\\programs\\python\\python38-32\\lib\\site-packages (from ipykernel->notebook) (7.21.0)\n",
      "Requirement already satisfied: pywin32>=1.0; sys_platform == \"win32\" in c:\\users\\lenovo\\appdata\\local\\programs\\python\\python38-32\\lib\\site-packages (from jupyter-core>=4.6.1->notebook) (300)\n",
      "Requirement already satisfied: pywinpty>=0.5; os_name == \"nt\" in c:\\users\\lenovo\\appdata\\local\\programs\\python\\python38-32\\lib\\site-packages (from terminado>=0.8.3->notebook) (0.5.7)\n",
      "Requirement already satisfied: six in c:\\users\\lenovo\\appdata\\roaming\\python\\python38\\site-packages (from argon2-cffi->notebook) (1.14.0)\n",
      "Requirement already satisfied: cffi>=1.0.0 in c:\\users\\lenovo\\appdata\\local\\programs\\python\\python38-32\\lib\\site-packages (from argon2-cffi->notebook) (1.14.5)\n",
      "Requirement already satisfied: jsonschema!=2.5.0,>=2.4 in c:\\users\\lenovo\\appdata\\local\\programs\\python\\python38-32\\lib\\site-packages (from nbformat->notebook) (3.2.0)\n",
      "Requirement already satisfied: webencodings in c:\\users\\lenovo\\appdata\\local\\programs\\python\\python38-32\\lib\\site-packages (from bleach->nbconvert->notebook) (0.5.1)\n",
      "Requirement already satisfied: packaging in c:\\users\\lenovo\\appdata\\local\\programs\\python\\python38-32\\lib\\site-packages (from bleach->nbconvert->notebook) (20.4)\n",
      "Requirement already satisfied: decorator in c:\\users\\lenovo\\appdata\\local\\programs\\python\\python38-32\\lib\\site-packages (from ipython>=5.0.0->ipykernel->notebook) (4.4.2)\n",
      "Requirement already satisfied: prompt-toolkit!=3.0.0,!=3.0.1,<3.1.0,>=2.0.0 in c:\\users\\lenovo\\appdata\\local\\programs\\python\\python38-32\\lib\\site-packages (from ipython>=5.0.0->ipykernel->notebook) (3.0.17)\n",
      "Requirement already satisfied: jedi>=0.16 in c:\\users\\lenovo\\appdata\\local\\programs\\python\\python38-32\\lib\\site-packages (from ipython>=5.0.0->ipykernel->notebook) (0.17.2)\n",
      "Requirement already satisfied: pickleshare in c:\\users\\lenovo\\appdata\\local\\programs\\python\\python38-32\\lib\\site-packages (from ipython>=5.0.0->ipykernel->notebook) (0.7.5)\n",
      "Requirement already satisfied: backcall in c:\\users\\lenovo\\appdata\\local\\programs\\python\\python38-32\\lib\\site-packages (from ipython>=5.0.0->ipykernel->notebook) (0.2.0)\n",
      "Requirement already satisfied: setuptools>=18.5 in c:\\users\\lenovo\\appdata\\local\\programs\\python\\python38-32\\lib\\site-packages (from ipython>=5.0.0->ipykernel->notebook) (41.2.0)\n",
      "Requirement already satisfied: colorama; sys_platform == \"win32\" in c:\\users\\lenovo\\appdata\\roaming\\python\\python38\\site-packages (from ipython>=5.0.0->ipykernel->notebook) (0.4.3)\n",
      "Requirement already satisfied: pycparser in c:\\users\\lenovo\\appdata\\local\\programs\\python\\python38-32\\lib\\site-packages (from cffi>=1.0.0->argon2-cffi->notebook) (2.20)\n",
      "Requirement already satisfied: pyrsistent>=0.14.0 in c:\\users\\lenovo\\appdata\\local\\programs\\python\\python38-32\\lib\\site-packages (from jsonschema!=2.5.0,>=2.4->nbformat->notebook) (0.17.3)\n",
      "Requirement already satisfied: attrs>=17.4.0 in c:\\users\\lenovo\\appdata\\local\\programs\\python\\python38-32\\lib\\site-packages (from jsonschema!=2.5.0,>=2.4->nbformat->notebook) (19.3.0)\n",
      "Requirement already satisfied: pyparsing>=2.0.2 in c:\\users\\lenovo\\appdata\\local\\programs\\python\\python38-32\\lib\\site-packages (from packaging->bleach->nbconvert->notebook) (2.4.7)\n",
      "Requirement already satisfied: wcwidth in c:\\users\\lenovo\\appdata\\local\\programs\\python\\python38-32\\lib\\site-packages (from prompt-toolkit!=3.0.0,!=3.0.1,<3.1.0,>=2.0.0->ipython>=5.0.0->ipykernel->notebook) (0.1.9)\n",
      "Requirement already satisfied: parso<0.8.0,>=0.7.0 in c:\\users\\lenovo\\appdata\\local\\programs\\python\\python38-32\\lib\\site-packages (from jedi>=0.16->ipython>=5.0.0->ipykernel->notebook) (0.7.1)\n"
     ]
    },
    {
     "name": "stderr",
     "output_type": "stream",
     "text": [
      "WARNING: You are using pip version 20.1.1; however, version 21.0.1 is available.\n",
      "You should consider upgrading via the 'c:\\users\\lenovo\\appdata\\local\\programs\\python\\python38-32\\python.exe -m pip install --upgrade pip' command.\n"
     ]
    }
   ],
   "source": [
    "!pip3 install --user notebook"
   ]
  },
  {
   "cell_type": "code",
   "execution_count": 4,
   "metadata": {},
   "outputs": [
    {
     "name": "stdout",
     "output_type": "stream",
     "text": [
      "Collecting pip\n",
      "  Downloading pip-21.0.1-py3-none-any.whl (1.5 MB)\n",
      "Installing collected packages: pip\n",
      "  Attempting uninstall: pip\n",
      "    Found existing installation: pip 20.0.2\n",
      "    Uninstalling pip-20.0.2:\n",
      "      Successfully uninstalled pip-20.0.2\n"
     ]
    },
    {
     "name": "stderr",
     "output_type": "stream",
     "text": [
      "ERROR: Could not install packages due to an EnvironmentError: [WinError 5] Access is denied: 'C:\\\\Users\\\\Lenovo\\\\AppData\\\\Local\\\\Temp\\\\pip-uninstall-zspli9_d\\\\pip.exe'\n",
      "Consider using the `--user` option or check the permissions.\n",
      "\n"
     ]
    }
   ],
   "source": [
    "!pip install --upgrade pip"
   ]
  },
  {
   "cell_type": "code",
   "execution_count": 5,
   "metadata": {},
   "outputs": [
    {
     "name": "stdout",
     "output_type": "stream",
     "text": [
      "Requirement already satisfied: pip in c:\\users\\lenovo\\anaconda3\\lib\\site-packages (21.0.1)\n"
     ]
    }
   ],
   "source": [
    "!pip3 install --upgrade pip --user"
   ]
  },
  {
   "cell_type": "code",
   "execution_count": 6,
   "metadata": {},
   "outputs": [
    {
     "name": "stderr",
     "output_type": "stream",
     "text": [
      "ERROR: Could not find a version that satisfies the requirement upgrade\n",
      "ERROR: No matching distribution found for upgrade\n"
     ]
    }
   ],
   "source": [
    "!pip3 install upgrade notebook --user"
   ]
  },
  {
   "cell_type": "code",
   "execution_count": null,
   "metadata": {},
   "outputs": [],
   "source": []
  }
 ],
 "metadata": {
  "kernelspec": {
   "display_name": "Python 3",
   "language": "python",
   "name": "python3"
  },
  "language_info": {
   "codemirror_mode": {
    "name": "ipython",
    "version": 3
   },
   "file_extension": ".py",
   "mimetype": "text/x-python",
   "name": "python",
   "nbconvert_exporter": "python",
   "pygments_lexer": "ipython3",
   "version": "3.7.6"
  }
 },
 "nbformat": 4,
 "nbformat_minor": 4
}
