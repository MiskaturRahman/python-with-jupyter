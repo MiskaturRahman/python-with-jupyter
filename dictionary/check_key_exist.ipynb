{
 "cells": [
  {
   "cell_type": "code",
   "execution_count": 3,
   "metadata": {},
   "outputs": [
    {
     "ename": "SyntaxError",
     "evalue": "invalid syntax (<ipython-input-3-ac75bee78973>, line 10)",
     "output_type": "error",
     "traceback": [
      "\u001b[1;36m  File \u001b[1;32m\"<ipython-input-3-ac75bee78973>\"\u001b[1;36m, line \u001b[1;32m10\u001b[0m\n\u001b[1;33m    Key is present in the dictionary\u001b[0m\n\u001b[1;37m                          ^\u001b[0m\n\u001b[1;31mSyntaxError\u001b[0m\u001b[1;31m:\u001b[0m invalid syntax\n"
     ]
    }
   ],
   "source": [
    "# ---------------------------------------------------------------\n",
    "#  \n",
    "# ---------------------------------------------------------------\n",
    "# Check if a given key already exists in a dictionary\n",
    "# input\n",
    "# d = {1: 10, 2: 20, 3: 30, 4: 40, 5: 50, 6: 60}\n",
    "# is_key_present(5)\n",
    "# is_key_present(9)\n",
    "# output\n",
    "# Key is present in the dictionary                                                                              \n",
    "# Key is not present in the dictionary"
   ]
  },
  {
   "cell_type": "code",
   "execution_count": null,
   "metadata": {},
   "outputs": [],
   "source": []
  }
 ],
 "metadata": {
  "kernelspec": {
   "display_name": "Python 3",
   "language": "python",
   "name": "python3"
  },
  "language_info": {
   "codemirror_mode": {
    "name": "ipython",
    "version": 3
   },
   "file_extension": ".py",
   "mimetype": "text/x-python",
   "name": "python",
   "nbconvert_exporter": "python",
   "pygments_lexer": "ipython3",
   "version": "3.8.2"
  }
 },
 "nbformat": 4,
 "nbformat_minor": 2
}
